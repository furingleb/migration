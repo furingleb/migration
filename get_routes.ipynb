{
 "cells": [
  {
   "cell_type": "code",
   "execution_count": null,
   "metadata": {},
   "outputs": [],
   "source": [
    "import ast \n",
    "from tqdm.auto import tqdm\n",
    "import pandas as pd\n",
    "import csv\n"
   ]
  },
  {
   "cell_type": "markdown",
   "metadata": {},
   "source": [
    "Открываем списки городов перемещений:"
   ]
  },
  {
   "cell_type": "code",
   "execution_count": null,
   "metadata": {},
   "outputs": [],
   "source": [
    "df = pd.read_csv('people.csv', sep='\\t')\n",
    "\n",
    "cts = list(df['City'])\n",
    "uns = list(df['Universities'])\n",
    "schs = list(df['Schools'])\n"
   ]
  },
  {
   "cell_type": "markdown",
   "metadata": {},
   "source": [
    "Делаем списки из _id_ городов каждого перемещения:"
   ]
  },
  {
   "cell_type": "code",
   "execution_count": null,
   "metadata": {},
   "outputs": [],
   "source": [
    "def remake(l):\n",
    "    new = []\n",
    "    for each in l:\n",
    "        if  type(each) == str:\n",
    "            a = each.split(', ')\n",
    "            new.append(a)\n",
    "        else:\n",
    "            try:\n",
    "\n",
    "                new.append(int(each))\n",
    "            except:\n",
    "                ValueError\n",
    "                new.append('')\n",
    "    return new\n"
   ]
  },
  {
   "cell_type": "code",
   "execution_count": 4,
   "metadata": {},
   "outputs": [],
   "source": [
    "uns = remake(uns)\n",
    "schs = remake(schs)\n",
    "cts = remake(cts)\n"
   ]
  },
  {
   "cell_type": "markdown",
   "metadata": {},
   "source": [
    "Находим следующие перемещения:\n",
    "1. Из одной школы в другую: если в списке городов школ есть различные города;\n",
    "2. Из школы в университет: если последний город школы не совпадает с первым городом университета;\n",
    "3. Из одного университета в другой: если в списке городов университетов есть различные города;\n",
    "4. Перемещение из университета в настоящий город проживания (по работе или иным причинам): если последний город университета/школы не совпадает с настоящим городом проживания;\n",
    "5. Полный маршрут: не повторяющиеся подряд города из всех списков;\n",
    "6. Число людей, не совершавших никаких перемещений."
   ]
  },
  {
   "cell_type": "code",
   "execution_count": null,
   "metadata": {},
   "outputs": [],
   "source": [
    "def search_transfers(school_cities, university_cities, city_ids):\n",
    "    \n",
    "    routes_work = []\n",
    "    routes_school = []\n",
    "    routes_schtouni = []\n",
    "    routes_university = []\n",
    "    full_route = []\n",
    "    no_transfers = 0\n",
    "    \n",
    "    for i in range(len(city_ids)):\n",
    "        b = []\n",
    "        if school_cities[i] and school_cities[i] != '-':\n",
    "            b.extend(school_cities[i])\n",
    "            if len(school_cities[i]) > 1:\n",
    "                routes_school.append(', '.join(school_cities[i]))\n",
    "            \n",
    "        if university_cities[i] and university_cities[i] != '-':\n",
    "            if len(university_cities[i]) > 1:\n",
    "                routes_university.append(', '.join(university_cities[i]))\n",
    "            if b:\n",
    "                if university_cities[i][0] != b[-1]:\n",
    "                    routes_schtouni.append(', '.join([b[-1], university_cities[i][0]]))\n",
    "                    b.extend(university_cities[i])\n",
    "            else:\n",
    "                b.extend(university_cities[i])\n",
    "            \n",
    "        if city_ids[i] and city_ids[i] != '-':\n",
    "            if b:\n",
    "                if str(city_ids[i]) != b[-1]:\n",
    "                    routes_work.append(', '.join([b[-1], str(city_ids[i])]))\n",
    "                    b.append(str(city_ids[i]))\n",
    "            else:\n",
    "                b.append(str(city_ids[i]))\n",
    "        if len(b) > 1:\n",
    "            full_route.append(', '.join(b))\n",
    "        elif len(b) == 1:\n",
    "            no_transfers += 1\n",
    "\n",
    "    return routes_work, routes_school, routes_schtouni, routes_university, full_route, no_transfers\n"
   ]
  },
  {
   "cell_type": "code",
   "execution_count": null,
   "metadata": {},
   "outputs": [],
   "source": [
    "routes_work, routes_school, routes_schtouni, routes_university, full_route, no_transfers = search_transfers(schs, uns, cts)\n",
    "print(len(routes_work), len(routes_school), len(routes_schtouni), len(routes_university), len(full_route), no_transfers)\n",
    "\n",
    "# no sex"
   ]
  },
  {
   "cell_type": "markdown",
   "metadata": {},
   "source": [
    "Считаем повторяющиеся маршруты и создаем словарь вида _'маршрут: число таких же'_:"
   ]
  },
  {
   "cell_type": "code",
   "execution_count": null,
   "metadata": {},
   "outputs": [],
   "source": [
    "def get_number_of_similar_routes(list_of_routes):\n",
    "    routes_nums = {}\n",
    "    for route in list_of_routes:\n",
    "        try:\n",
    "            routes_nums[route] += 1\n",
    "        except:\n",
    "            routes_nums[route] = 1\n",
    "    return routes_nums\n"
   ]
  },
  {
   "cell_type": "code",
   "execution_count": null,
   "metadata": {},
   "outputs": [],
   "source": [
    "def get_unique_routes(route_list):\n",
    "    unique = list(set(route_list))\n",
    "    return unique\n"
   ]
  },
  {
   "cell_type": "code",
   "execution_count": null,
   "metadata": {},
   "outputs": [],
   "source": [
    "unique_routes_work, unique_routes_school, unique_routes_schtouni, unique_routes_university, unique_full_route = get_unique_routes(routes_work), get_unique_routes(routes_school), get_unique_routes(routes_schtouni), get_unique_routes(routes_university), get_unique_routes(full_route)\n",
    "num_routes_work, num_routes_school, num_routes_schtouni, num_routes_university, num_full_route = get_number_of_similar_routes(routes_work), get_number_of_similar_routes(routes_school), get_number_of_similar_routes(routes_schtouni), get_number_of_similar_routes(routes_university), get_number_of_similar_routes(full_route)\n"
   ]
  },
  {
   "cell_type": "markdown",
   "metadata": {},
   "source": [
    "Записываем получившуюся информацию в csv-файл для дальнейшей обработки (файлов получится несколько, содеиним их в join_routes.pynb):"
   ]
  },
  {
   "cell_type": "code",
   "execution_count": 10,
   "metadata": {},
   "outputs": [],
   "source": [
    "with open('all_routes.csv', 'a', encoding='utf-8') as csv_file:\n",
    "    file_writer = csv.writer(csv_file, delimiter = \"\\t\")\n",
    "    file_writer.writerow(['type', 'route', 'num'])\n",
    "    for i in range(len(unique_routes_work)):\n",
    "        file_writer.writerow(['work', unique_routes_work[i], num_routes_work[unique_routes_work[i]]])\n",
    "    for i in range(len(unique_routes_school)):\n",
    "        file_writer.writerow(['school', unique_routes_school[i], num_routes_school[unique_routes_school[i]]])\n",
    "    for i in range(len(unique_routes_schtouni)):\n",
    "        file_writer.writerow(['school_to_university', unique_routes_schtouni[i], num_routes_schtouni[unique_routes_schtouni[i]]])\n",
    "    for i in range(len(unique_routes_university)):\n",
    "        file_writer.writerow(['university', unique_routes_university[i], num_routes_university[unique_routes_university[i]]])\n",
    "    for i in range(len(unique_full_route)):\n",
    "        file_writer.writerow(['full', unique_full_route[i], num_full_route[unique_full_route[i]]])\n",
    "    file_writer.writerow(['no_transfers', '', no_transfers])\n",
    "    "
   ]
  },
  {
   "cell_type": "code",
   "execution_count": null,
   "metadata": {},
   "outputs": [],
   "source": []
  }
 ],
 "metadata": {
  "kernelspec": {
   "display_name": "Python 3",
   "language": "python",
   "name": "python3"
  },
  "language_info": {
   "codemirror_mode": {
    "name": "ipython",
    "version": 3
   },
   "file_extension": ".py",
   "mimetype": "text/x-python",
   "name": "python",
   "nbconvert_exporter": "python",
   "pygments_lexer": "ipython3",
   "version": "3.8.3"
  }
 },
 "nbformat": 4,
 "nbformat_minor": 4
}
