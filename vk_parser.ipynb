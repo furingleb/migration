{
 "cells": [
  {
   "cell_type": "code",
   "execution_count": null,
   "metadata": {},
   "outputs": [],
   "source": [
    "import requests\n",
    "from tqdm.auto import tqdm\n",
    "from datetime import datetime\n",
    "import pandas as pd\n",
    "import re\n",
    "import csv\n",
    "\n",
    "TOKEN = ''\n",
    "VERSION = '5.130'"
   ]
  },
  {
   "cell_type": "markdown",
   "metadata": {},
   "source": [
    "Функция для удаления повторяющихся городов в списках школ и университетов:"
   ]
  },
  {
   "cell_type": "code",
   "execution_count": null,
   "metadata": {},
   "outputs": [],
   "source": [
    "def point(pnt):\n",
    "    if type(pnt) == list and f != []:\n",
    "        single_point = [pnt[0]]\n",
    "        for i in range(1, len(pnt)):\n",
    "            if single_point[-1] != pnt[i]:\n",
    "                single_point.append(pnt[i])\n",
    "    return single_point\n"
   ]
  },
  {
   "cell_type": "markdown",
   "metadata": {},
   "source": [
    "Создаем список с _id_ пользователя, настоящим городом проживания и списки перемещений в связи с изменением школы или университета: "
   ]
  },
  {
   "cell_type": "code",
   "execution_count": null,
   "metadata": {},
   "outputs": [],
   "source": [
    "ids = []\n",
    "sexs = []\n",
    "cities = []\n",
    "uns = []\n",
    "schs = []\n"
   ]
  },
  {
   "cell_type": "markdown",
   "metadata": {},
   "source": [
    "Производим парсинг информации о каждом пользователе в выбранном множестве _id_ и доваляем нужную информацию в соответствующие списки:"
   ]
  },
  {
   "cell_type": "code",
   "execution_count": null,
   "metadata": {},
   "outputs": [],
   "source": [
    "users_get_url = 'https://api.vk.com/method/users.get'\n",
    "\n",
    "\n",
    "for user in tqdm(range(1, 640500000)):\n",
    "    user_info = requests.get(\n",
    "        users_get_url,\n",
    "        params={\n",
    "            'user_ids': user,\n",
    "            'fields': 'city,country,home_town,universities,schools,bdate,sex',\n",
    "            'access_token': TOKEN,\n",
    "            'v': VERSION\n",
    "        }\n",
    "    ).json()\n",
    "    try:\n",
    "        user_info['response'][0]['deactivated']\n",
    "    except: \n",
    "        KeyError\n",
    "        if user_info['response'][0]['is_closed'] != True:\n",
    "            try:\n",
    "                ids.append(user_info['response'][0]['id'])\n",
    "            except:\n",
    "                KeyError\n",
    "                ids.append('')\n",
    "            try:\n",
    "                cities.append(user_info['response'][0]['city']['id'])\n",
    "            except:\n",
    "                KeyError\n",
    "                cities.append('')\n",
    "            try:\n",
    "                un_list = []\n",
    "                for un in user_info['response'][0]['universities']:\n",
    "                    un_list.append(un['city'])\n",
    "                if un_list:\n",
    "                    un_list = point(un_list)\n",
    "                    uns.append(un_list)\n",
    "                else: \n",
    "                    uns.append('')\n",
    "            except:\n",
    "                KeyError\n",
    "                uns.append('')\n",
    "            try:\n",
    "                sc_list = []\n",
    "                for sc in user_info['response'][0]['schools']:\n",
    "                    sc_list.append(sc['city'])\n",
    "                if sc_list:\n",
    "                    sc_list = point(list(reversed(sc_list)))\n",
    "                    schs.append(sc_list)\n",
    "                else: \n",
    "                    schs.append('')\n",
    "            except:\n",
    "                KeyError\n",
    "                schs.append('')\n",
    "\n"
   ]
  },
  {
   "cell_type": "markdown",
   "metadata": {},
   "source": [
    "Проверяем идентичность длин получившихся списков:"
   ]
  },
  {
   "cell_type": "code",
   "execution_count": null,
   "metadata": {},
   "outputs": [],
   "source": [
    "print(len(uns), len(cities), len(ids), len(schs))\n"
   ]
  },
  {
   "cell_type": "markdown",
   "metadata": {},
   "source": [
    "Записываем всю полученную информацию в csv-файл:"
   ]
  },
  {
   "cell_type": "code",
   "execution_count": null,
   "metadata": {},
   "outputs": [],
   "source": [
    "with open('people.csv', 'a', encoding='utf-8') as csv_file:\n",
    "    file_writer = csv.writer(csv_file, delimiter = \"\\t\")\n",
    "    file_writer.writerow([\"Id\", \"Schools\", \"Universities\", 'City'])\n",
    "    for j in tqdm(range(len(ids))):\n",
    "        file_writer.writerow([ids[j], schs[j], uns[j], cities[j]])"
   ]
  },
  {
   "cell_type": "code",
   "execution_count": null,
   "metadata": {},
   "outputs": [],
   "source": []
  }
 ],
 "metadata": {
  "kernelspec": {
   "display_name": "Python 3",
   "language": "python",
   "name": "python3"
  },
  "language_info": {
   "codemirror_mode": {
    "name": "ipython",
    "version": 3
   },
   "file_extension": ".py",
   "mimetype": "text/x-python",
   "name": "python",
   "nbconvert_exporter": "python",
   "pygments_lexer": "ipython3",
   "version": "3.8.3"
  }
 },
 "nbformat": 4,
 "nbformat_minor": 4
}
