{
 "cells": [
  {
   "cell_type": "code",
   "execution_count": 1,
   "metadata": {},
   "outputs": [],
   "source": [
    "import requests\n",
    "from tqdm.auto import tqdm\n",
    "from datetime import datetime\n",
    "import pandas as pd\n",
    "\n",
    "\n",
    "TOKEN = \"378040d4378040d4378040d40337f73b4133780378040d457fdc4b7843740eb0ed5954b\"\n",
    "VERSION = \"5.131\"\n"
   ]
  },
  {
   "cell_type": "markdown",
   "metadata": {},
   "source": [
    "Находим _id_ всех стран:"
   ]
  },
  {
   "cell_type": "code",
   "execution_count": 2,
   "metadata": {},
   "outputs": [],
   "source": [
    "get_countries = \"https://api.vk.com/method/database.getCountries\"\n"
   ]
  },
  {
   "cell_type": "code",
   "execution_count": 3,
   "metadata": {},
   "outputs": [],
   "source": [
    "countries_data = requests.get(\n",
    "    get_countries, \n",
    "    params={\n",
    "        \"need_all\": '1', \n",
    "        \"count\": '1000', \n",
    "        \"v\": VERSION, \n",
    "        \"access_token\": TOKEN  \n",
    "    }\n",
    ").json()['response']['items']\n"
   ]
  },
  {
   "cell_type": "markdown",
   "metadata": {},
   "source": [
    "Находим _id_ стран СНГ (для РФ - _id: 1_):"
   ]
  },
  {
   "cell_type": "code",
   "execution_count": 5,
   "metadata": {},
   "outputs": [],
   "source": [
    "cis_countries = ['Azerbaijan', 'Armenia', 'Belarus', 'Georgia', 'Kazakhstan', 'Kyrgyzstan', 'Moldova', 'Tajikistan', 'Uzbekistan', 'Turkmenistan', 'Ukraine']\n",
    "baltics_countries = ['Latvia', 'Lithuania', 'Estonia']\n"
   ]
  },
  {
   "cell_type": "code",
   "execution_count": 6,
   "metadata": {},
   "outputs": [],
   "source": [
    "cis_countries_ids = []\n",
    "for cis_country in cis_countries:\n",
    "    for country in countries_data:\n",
    "        if country['title'] == cis_country:\n",
    "            cis_countries_ids.append(country['id'])\n",
    "\n",
    "baltics_countries_ids = []\n",
    "for baltics_country in baltics_countries:\n",
    "    for country in countries_data:\n",
    "        if country['title'] == baltics_country:\n",
    "            baltics_countries_ids.append(country['id'])   \n",
    "            "
   ]
  },
  {
   "cell_type": "code",
   "execution_count": 8,
   "metadata": {},
   "outputs": [
    {
     "data": {
      "text/plain": [
       "[5, 6, 3, 7, 4, 11, 15, 16, 18, 17, 2]"
      ]
     },
     "execution_count": 8,
     "metadata": {},
     "output_type": "execute_result"
    }
   ],
   "source": [
    "cis_countries_ids\n"
   ]
  },
  {
   "cell_type": "markdown",
   "metadata": {},
   "source": [
    "Находим все _id_ городов, являющихся пунктами в маршрутах, создаем список с уникальными _id_:"
   ]
  },
  {
   "cell_type": "code",
   "execution_count": null,
   "metadata": {},
   "outputs": [],
   "source": [
    "df = pd.read_csv('all_routes_fm.csv', sep='\\t')\n",
    "routes = list(df['route'])\n",
    "del routes[-1]\n"
   ]
  },
  {
   "cell_type": "code",
   "execution_count": null,
   "metadata": {},
   "outputs": [],
   "source": [
    "ids = []\n",
    "\n",
    "for route in routes:\n",
    "    _ = route.split(', ')\n",
    "    ids.extend(_)\n",
    "    "
   ]
  },
  {
   "cell_type": "code",
   "execution_count": null,
   "metadata": {},
   "outputs": [],
   "source": [
    "ids = list(set(ids))\n",
    "len(ids)\n",
    "\n",
    "idds = []\n",
    "for i in ids:\n",
    "    ii = int(i)\n",
    "    idds.append(ii)\n",
    "    "
   ]
  },
  {
   "cell_type": "markdown",
   "metadata": {},
   "source": [
    "Находим названия городов по списку с _id_:"
   ]
  },
  {
   "cell_type": "code",
   "execution_count": null,
   "metadata": {},
   "outputs": [],
   "source": [
    "get_cities_by_id = \"https://api.vk.com/method/database.getCitiesById\"\n"
   ]
  },
  {
   "cell_type": "code",
   "execution_count": null,
   "metadata": {},
   "outputs": [],
   "source": [
    "with open('cities_ids.txt', 'a', encoding='utf-8') as city_id:\n",
    "    for ct in idds:\n",
    "        ctitles = requests.get(\n",
    "            get_cities_by_id, \n",
    "            params={\n",
    "                \"city_ids\": ct,\n",
    "                \"v\": VERSION, \n",
    "                \"access_token\": TOKEN  \n",
    "            }\n",
    "        ).json()['response']\n",
    "        if ctitles:\n",
    "            city_id.write(str(ctitles[0]['id']) + ',' + ctitles[0]['title'] + '\\n')\n",
    "    "
   ]
  },
  {
   "cell_type": "markdown",
   "metadata": {},
   "source": [
    "Создаем словари вида _{'id': int, 'title': str}_:"
   ]
  },
  {
   "cell_type": "code",
   "execution_count": null,
   "metadata": {},
   "outputs": [],
   "source": [
    "city_paires_id_title = []\n",
    "with open('cities_ids.txt', 'r', encoding='utf-8') as fucking_shit:\n",
    "    pairs = fucking_shit.read().split('\\n')\n",
    "    for pair in pairs:\n",
    "        if pair:\n",
    "            p = pair.split(',')\n",
    "            if p[1]: # некоторые города были удалены, поэтому названий у них нет, но id остался\n",
    "                city_paires_id_title.append({'id': int(p[0]), 'title': p[1]})\n",
    "            "
   ]
  },
  {
   "cell_type": "code",
   "execution_count": null,
   "metadata": {},
   "outputs": [],
   "source": [
    "len(city_paires_id_title)\n"
   ]
  },
  {
   "cell_type": "markdown",
   "metadata": {},
   "source": [
    "Создаем файл для каждой страны со списком городов (строка - _id,title_):"
   ]
  },
  {
   "cell_type": "code",
   "execution_count": 9,
   "metadata": {},
   "outputs": [],
   "source": [
    "get_cities = \"https://api.vk.com/method/database.getCities\"\n"
   ]
  },
  {
   "cell_type": "code",
   "execution_count": null,
   "metadata": {},
   "outputs": [],
   "source": [
    "all_countries = ['Russia']\n",
    "all_countries.extend(cis_countries)\n",
    "all_countries.extend(baltics_countries)\n",
    "\n",
    "all_countries_ids = [1]\n",
    "all_countries_ids.extend(cis_countries_ids)\n",
    "all_countries_ids.extend(baltics_countries_ids)"
   ]
  },
  {
   "cell_type": "code",
   "execution_count": null,
   "metadata": {},
   "outputs": [],
   "source": [
    "for c in range(len(all_countries)):\n",
    "    i = 1000\n",
    "    j = 0\n",
    "    with open(all_countries[c] + '.txt', 'a', encoding='utf-8') as country_file:\n",
    "        a = []\n",
    "        while True:\n",
    "            c_ = requests.get(\n",
    "                get_cities, \n",
    "                params={\n",
    "                    \"country_id\": all_countries_ids[c], \n",
    "                    \"count\": i,\n",
    "                    \"offset\": j,\n",
    "                    \"v\": VERSION, \n",
    "                    \"need_all\": 1,\n",
    "                    \"access_token\": TOKEN  \n",
    "                }\n",
    "            ).json()['response']['items']\n",
    "            a.extend(c_)\n",
    "            for each in c_:\n",
    "                country_file.write(str(each['id'])+','+each['title']+'\\n')\n",
    "            j+=1000\n",
    "    "
   ]
  }
 ],
 "metadata": {
  "kernelspec": {
   "display_name": "Python 3",
   "language": "python",
   "name": "python3"
  },
  "language_info": {
   "codemirror_mode": {
    "name": "ipython",
    "version": 3
   },
   "file_extension": ".py",
   "mimetype": "text/x-python",
   "name": "python",
   "nbconvert_exporter": "python",
   "pygments_lexer": "ipython3",
   "version": "3.8.3"
  }
 },
 "nbformat": 4,
 "nbformat_minor": 4
}
